{
 "cells": [
  {
   "cell_type": "code",
   "execution_count": 15,
   "id": "accurate-material",
   "metadata": {},
   "outputs": [],
   "source": [
    "import pyecharts.options as opts\n",
    "from pyecharts.charts import Line\n",
    "import pandas as pd\n",
    "def visual_change(file):\n",
    "    \"\"\"\n",
    "    对每日/周/月/季度/年涨跌幅前10名按涨/跌幅可视化输出\n",
    "    stocks: 列表, 内部装股票名, 按涨/跌幅排序, 输入的是csv 文件, 横坐标是时间, 纵坐标为股票在此期限的涨跌幅\n",
    "    period: 时间期限\n",
    "    \"\"\"\n",
    "    line = Line()\n",
    "    line.add_xaxis(xaxis_data=file.columns.to_list()[1:])\n",
    "    for index, row in file.iterrows():\n",
    "        line.add_yaxis(\n",
    "            series_name = row[\"stock\"],\n",
    "            stack=\"总量\",\n",
    "            y_axis = row.to_list()[1:],\n",
    "            label_opts=opts.LabelOpts(is_show=False),\n",
    "        )\n",
    "    line.set_global_opts(\n",
    "        title_opts=opts.TitleOpts(title=\"前十股票涨跌幅\"),\n",
    "        tooltip_opts=opts.TooltipOpts(trigger=\"axis\"),\n",
    "        yaxis_opts=opts.AxisOpts(\n",
    "            type_=\"value\",\n",
    "            axistick_opts=opts.AxisTickOpts(is_show=True),\n",
    "            splitline_opts=opts.SplitLineOpts(is_show=True),\n",
    "        ),\n",
    "        xaxis_opts=opts.AxisOpts(type_=\"category\", boundary_gap=False),\n",
    "        )\n",
    "    line.render()\n",
    "    return line"
   ]
  },
  {
   "cell_type": "code",
   "execution_count": 59,
   "id": "unusual-damage",
   "metadata": {},
   "outputs": [],
   "source": [
    "from pyecharts import options as opts\n",
    "from pyecharts.charts import Kline\n",
    "def candle_graph(stockfile,, stockname, start_date, end_date):\n",
    "    \"\"\"\n",
    "    绘制蜡烛图\n",
    "    stock: 输入csv 文件, [Date,Open,High,Low,Close,Volume]\n",
    "    \"\"\"\n",
    "\n",
    "    date_list = stockfile[\"Date\"].to_list()\n",
    "    start_index = date_list.index(start_date)\n",
    "    end_index = date_list.index(end_date)\n",
    "    date_list = date_list[start_index:end_index+1]\n",
    "    data = []\n",
    "    for index, row in stockfile.iterrows():\n",
    "        row = row.to_dict()\n",
    "        if start_index <= index and index <= end_index:\n",
    "            day_data = [row[\"Open\"], row[\"Close\"], row[\"High\"], row[\"Low\"]]\n",
    "            data.append(day_data)\n",
    "    c = (\n",
    "    Kline()\n",
    "    .add_xaxis(date_list)\n",
    "    .add_yaxis(\"kline\", data)\n",
    "    .set_global_opts(\n",
    "        xaxis_opts=opts.AxisOpts(is_scale=True),\n",
    "        yaxis_opts=opts.AxisOpts(\n",
    "            is_scale=True,\n",
    "            splitarea_opts=opts.SplitAreaOpts(\n",
    "                is_show=True, areastyle_opts=opts.AreaStyleOpts(opacity=1)\n",
    "            ),\n",
    "        ),\n",
    "        datazoom_opts=[opts.DataZoomOpts(pos_bottom=\"-2%\")],\n",
    "        title_opts=opts.TitleOpts(title=stockname),\n",
    "    )\n",
    "    .render(stockname+\"kline_markline.html\")\n",
    "    )\n",
    "    return"
   ]
  },
  {
   "cell_type": "code",
   "execution_count": 60,
   "id": "dimensional-addiction",
   "metadata": {},
   "outputs": [],
   "source": [
    "def visualisation_kline(stocks_name,period):\n",
    "    \"\"\"\n",
    "    绘制每日/周/月/季度/年涨幅、跌幅前3/5/10/10/20名的月度/季度/年度/5年度蜡烛图（开盘价、收盘价等)\n",
    "    stocks_name: 跌幅前3/5/10/10/20名的名单, 以列表的形式\n",
    "    \"\"\"\n",
    "    \n",
    "    for stockname in stocks_name:\n",
    "        path = element+\".csv\"\n",
    "        file2 = pd.read_csv(path)\n",
    "        # calculate period function 尚未实现\n",
    "        candle_graph(file2,stockname, \"2016-03-14\", \"2016-04-14\")"
   ]
  },
  {
   "cell_type": "code",
   "execution_count": null,
   "id": "english-object",
   "metadata": {},
   "outputs": [],
   "source": []
  },
  {
   "cell_type": "code",
   "execution_count": 1,
   "metadata": {},
   "outputs": [
    {
     "output_type": "stream",
     "name": "stdout",
     "text": [
      "change_db数据库读取成功\n        id company_name update_day  year_change_percent\n0        1           JG       2018                  nan\n1        2           JG       2019  -21.387277565102885\n2        3           JG       2020  -60.882352776180916\n3        4           JG       2021    22.18044718540154\n4        5         FEDU       2017                  nan\n...    ...          ...        ...                  ...\n1460  1461         MOMO       2019    -8.01127117107059\n1461  1462         MOMO       2020   49.277899522545155\n1462  1463         MOMO       2021   -59.99706768218954\n1463  1464         EBON       2020                  nan\n1464  1465         EBON       2021    74.54068753911848\n\n[1465 rows x 4 columns]\nyear_change_table表读取成功\n"
     ]
    }
   ],
   "source": [
    "    import pandas as pd\n",
    "    import pymysql\n",
    "    from get_pricedata import *\n",
    "    from creat_database import *\n",
    "    import datetime\n",
    "    from datetime import datetime\n",
    "    import numpy as np\n",
    "    from change_table import *\n",
    "    db = conn_sql(\"139.9.222.28\",'lulu','lulu666')\n",
    "    cursor = db.cursor()\n",
    "    def sort_table(period, top_rank, rise = True):\n",
    "        \"\"\"\n",
    "        period: 排序的周期\n",
    "        top_rank: 取出前多少名， 以及涨跌幅\n",
    "        rise: 涨/跌幅， 默认涨\n",
    "        \"\"\"\n",
    "        df = read_change_table(db, cursor, period)\n",
    "        df.set_index(\"id\", inplace= True)\n",
    "        df1 = df.groupby(\"update_day\")\n",
    "        all_groups = df1.groups.keys()\n",
    "        col_name = \"{}_change_percent\".format(period)\n",
    "        for group in all_groups:\n",
    "            df2 = df1.get_group(group).replace(\"nan\", np.nan) \n",
    "            df2.dropna(subset = [column], inplace =True)\n",
    "            if not df2.empty:\n",
    "                df2[col_name] = df2[col_name].astype(float)\n",
    "                if rise:    \n",
    "                    # 涨幅前几（根据输入的top rank)\n",
    "                    sort_df2 = df2.sort_values(by = [col_name], ascending = False).head(top_rank)\n",
    "                    pd.DataFrame.to_csv(\"涨幅_{}_{}.csv\".format(period, top_rank))\n",
    "                else:\n",
    "                    # 跌幅前几（根据输入的top rank)\n",
    "                    reverse_sort_df2 = df2.sort_values(by =[col_name], ascending =True).head(top_rank)\n",
    "                    pd.DataFrame.to_csv(\"跌幅_{}_{}.csv\".format(period, top_rank))"
   ]
  },
  {
   "cell_type": "code",
   "execution_count": null,
   "metadata": {},
   "outputs": [],
   "source": []
  }
 ],
 "metadata": {
  "kernelspec": {
   "name": "python371jvsc74a57bd00d2af4708e901420ca316528daed9d207adf237f59982b81f6b4928a0eab77f9",
   "display_name": "Python 3.7.1 64-bit"
  },
  "language_info": {
   "codemirror_mode": {
    "name": "ipython",
    "version": 3
   },
   "file_extension": ".py",
   "mimetype": "text/x-python",
   "name": "python",
   "nbconvert_exporter": "python",
   "pygments_lexer": "ipython3",
   "version": "3.7.1"
  }
 },
 "nbformat": 4,
 "nbformat_minor": 5
}