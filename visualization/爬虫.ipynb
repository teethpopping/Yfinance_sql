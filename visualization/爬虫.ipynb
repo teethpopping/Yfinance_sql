{
 "cells": [
  {
   "cell_type": "code",
   "execution_count": 2,
   "id": "brief-cameroon",
   "metadata": {},
   "outputs": [
    {
     "output_type": "stream",
     "name": "stdout",
     "text": [
      "<html><body><p>{\"data\":{\"zyzb\":[{\"SECURITYCODE\":\"BILI.O\",\"SECURITYSHORTNAME\":\"哔哩哔哩\",\"COMPANYTYPE\":\"004\",\"REPORTDATE\":\"2020-12-31\",\"CURRENCY\":\"人民币\",\"STARTDATE\":\"2020/1/1 0:00:00\",\"ENDDATE\":\"2020-12-31\",\"PETEM\":\"-84.9340141108228\",\"PBMRQ\":\"33.6564972018659\",\"EPSTTM\":\"-7.91278626161578\",\"BPS\":\"19.9683495275539\",\"DPS\":\"--\",\"DTOP\":\"--\",\"OPERATEREVE\":\"11998976000\",\"OPERATEREVEYOY\":\"77.0303051584247\",\"PARENTNETPROFIT\":\"-3011704000\",\"PARENTNETPROFITYOY\":\"-133.651441884353\",\"SPECIALINDEX1\":\"23.6701531864052\",\"SPECIALINDEX2\":\"-25.452313597427\",\"ADSNUM\":\"380612328\",\"TOTALVALUE\":\"39203069784\"}],\"gsgk\":[{\"SECURITYCODE\":\"BILI.O\",\"SECURITYSHORTNAME\":\"哔哩哔哩\",\"COMPNAME\":\"Bilibili Inc.\",\"COMPNAMECN\":\"哔哩哔哩股份有限公司\",\"SECURITYTYPE\":\"美国存托凭证\",\"TRADEMARKET\":\"NASDAQ\",\"CHAIRMAN\":\"Rui Chen(陈睿)\",\"INDUSTRY\":\"互动家庭娱乐\",\"FOUNDDATE\":\"2013-12-23\",\"LISTEDDATE\":\"2018-03-28\",\"OFFICEADDRESS\":\"上海市杨浦区政立路485号国正中心3号楼,香港九龙长沙湾道788号罗氏商业广场6楼603室\",\"WEBSITE\":\"www.bilibili.com,ir.bilibili.com\"}],\"gbgd\":[{\"SECURITYCODE\":\"BILI.O\",\"SECURITYSHORTNAME\":\"哔哩哔哩\",\"CHANGEDATE\":\"2021-03-29\",\"CHANGEREASON\":\"增发\",\"NORMALISSUEVOLUMN\":\"380612328\",\"PREFERREDISSUEVOLUMN\":\"--\",\"NOTICEDATE\":\"2021-03-24\",\"NORMALHKVOLUMN\":\"25000000\",\"NORMALDOMESTICVOLUMN\":\"--\",\"NORMALOVERSEASVOLUMN\":\"271897214\",\"NORMALOTHERVOLUMN\":\"83715114\",\"ADSEQV\":\"380612328\",\"NORMALISSUEVOLUMNRATIO\":\"100\",\"PREFERREDISSUEVOLUMNRATIO\":\"--\",\"NORMALHKVOLUMNRATIO\":\"6.56836317713808\",\"NORMALDOMESTICVOLUMNRATIO\":\"--\",\"NORMALOVERSEASVOLUMNRATIO\":\"71.4367859361613\",\"NORMALOTHERVOLUMNRATIO\":\"21.9948508867007\",\"ADSEQVRATIO\":\"--\"}],\"zygc_cp\":[{\"SECURITYCODE\":\"BILI.O\",\"SECURITYSHORTNAME\":\"哔哩哔哩\",\"REPORTDATE\":\"2020-12-31\",\"STARTDATE\":\"2020-01-01\",\"CURRENCY\":\"CNY\",\"CLASS\":\"1\",\"RANK\":\"1\",\"PRODUCTNAME\":\"Mobile games\",\"MBREVENUE\":\"4803382000\",\"RATIO\":\"40.0315993631456\"},{\"SECURITYCODE\":\"BILI.O\",\"SECURITYSHORTNAME\":\"哔哩哔哩\",\"REPORTDATE\":\"2020-12-31\",\"STARTDATE\":\"2020-01-01\",\"CURRENCY\":\"CNY\",\"CLASS\":\"1\",\"RANK\":\"2\",\"PRODUCTNAME\":\"Value-added services\",\"MBREVENUE\":\"3845663000\",\"RATIO\":\"32.049926593736\"},{\"SECURITYCODE\":\"BILI.O\",\"SECURITYSHORTNAME\":\"哔哩哔哩\",\"REPORTDATE\":\"2020-12-31\",\"STARTDATE\":\"2020-01-01\",\"CURRENCY\":\"CNY\",\"CLASS\":\"1\",\"RANK\":\"3\",\"PRODUCTNAME\":\"Advertising\",\"MBREVENUE\":\"1842772000\",\"RATIO\":\"15.3577438608095\"},{\"SECURITYCODE\":\"BILI.O\",\"SECURITYSHORTNAME\":\"哔哩哔哩\",\"REPORTDATE\":\"2020-12-31\",\"STARTDATE\":\"2020-01-01\",\"CURRENCY\":\"CNY\",\"CLASS\":\"1\",\"RANK\":\"4\",\"PRODUCTNAME\":\"E-commerce and others\",\"MBREVENUE\":\"1507159000\",\"RATIO\":\"12.5607301823089\"},{\"SECURITYCODE\":\"BILI.O\",\"SECURITYSHORTNAME\":\"哔哩哔哩\",\"REPORTDATE\":\"2020-12-31\",\"STARTDATE\":\"2020-01-01\",\"CURRENCY\":\"CNY\",\"CLASS\":\"1\",\"RANK\":\"99\",\"PRODUCTNAME\":\"Total\",\"MBREVENUE\":\"11998976000\",\"RATIO\":\"100\"}],\"fhpx\":[],\"mkmx\":[{\"SecurityCode\":\"BILI.O\",\"SecurityName\":\"哔哩哔哩\",\"SettleDate\":\"2021-03-31\",\"ShortInterest\":\"23414730\",\"AvgVolume\":\"--\",\"Days\":\"3.29\"},{\"SecurityCode\":\"BILI.O\",\"SecurityName\":\"哔哩哔哩\",\"SettleDate\":\"2021-03-15\",\"ShortInterest\":\"21237687\",\"AvgVolume\":\"--\",\"Days\":\"2.54\"},{\"SecurityCode\":\"BILI.O\",\"SecurityName\":\"哔哩哔哩\",\"SettleDate\":\"2021-02-26\",\"ShortInterest\":\"22194327\",\"AvgVolume\":\"--\",\"Days\":\"3.32\"},{\"SecurityCode\":\"BILI.O\",\"SecurityName\":\"哔哩哔哩\",\"SettleDate\":\"2021-02-12\",\"ShortInterest\":\"22118011\",\"AvgVolume\":\"--\",\"Days\":\"3.45\"},{\"SecurityCode\":\"BILI.O\",\"SecurityName\":\"哔哩哔哩\",\"SettleDate\":\"2021-01-29\",\"ShortInterest\":\"23660662\",\"AvgVolume\":\"--\",\"Days\":\"3.75\"},{\"SecurityCode\":\"BILI.O\",\"SecurityName\":\"哔哩哔哩\",\"SettleDate\":\"2021-01-15\",\"ShortInterest\":\"27359845\",\"AvgVolume\":\"--\",\"Days\":\"4.22\"},{\"SecurityCode\":\"BILI.O\",\"SecurityName\":\"哔哩哔哩\",\"SettleDate\":\"2020-12-31\",\"ShortInterest\":\"25151120\",\"AvgVolume\":\"--\",\"Days\":\"5.73\"},{\"SecurityCode\":\"BILI.O\",\"SecurityName\":\"哔哩哔哩\",\"SettleDate\":\"2020-12-15\",\"ShortInterest\":\"25452325\",\"AvgVolume\":\"--\",\"Days\":\"5.36\"},{\"SecurityCode\":\"BILI.O\",\"SecurityName\":\"哔哩哔哩\",\"SettleDate\":\"2020-11-30\",\"ShortInterest\":\"23897429\",\"AvgVolume\":\"--\",\"Days\":\"3.47\"},{\"SecurityCode\":\"BILI.O\",\"SecurityName\":\"哔哩哔哩\",\"SettleDate\":\"2020-11-13\",\"ShortInterest\":\"23478736\",\"AvgVolume\":\"--\",\"Days\":\"4.61\"}],\"jgpj\":[{\"SECURITYCODE\":\"BILI.O\",\"SECURITYSHORTNAME\":\"哔哩哔哩\",\"PUBLISHDATE\":\"2021-04-02\",\"SCOMPANYNAME\":\"东北证券股份有限公司\",\"SRATINGNAME\":\"买入\",\"AIMPRICE\":\"121.3\",\"TOTALCOUNT\":\"62\"},{\"SECURITYCODE\":\"BILI.O\",\"SECURITYSHORTNAME\":\"哔哩哔哩\",\"PUBLISHDATE\":\"2021-03-12\",\"SCOMPANYNAME\":\"国元国际控股\",\"SRATINGNAME\":\"买入\",\"AIMPRICE\":\"128\",\"TOTALCOUNT\":\"62\"},{\"SECURITYCODE\":\"BILI.O\",\"SECURITYSHORTNAME\":\"哔哩哔哩\",\"PUBLISHDATE\":\"2021-03-03\",\"SCOMPANYNAME\":\"中国银河证券股份有限公司\",\"SRATINGNAME\":\"推荐\",\"AIMPRICE\":\"--\",\"TOTALCOUNT\":\"62\"},{\"SECURITYCODE\":\"BILI.O\",\"SECURITYSHORTNAME\":\"哔哩哔哩\",\"PUBLISHDATE\":\"2021-03-03\",\"SCOMPANYNAME\":\"第一上海证券有限公司\",\"SRATINGNAME\":\"--\",\"AIMPRICE\":\"168.21\",\"TOTALCOUNT\":\"62\"},{\"SECURITYCODE\":\"BILI.O\",\"SECURITYSHORTNAME\":\"哔哩哔哩\",\"PUBLISHDATE\":\"2021-03-01\",\"SCOMPANYNAME\":\"东吴证券股份有限公司\",\"SRATINGNAME\":\"买入\",\"AIMPRICE\":\"--\",\"TOTALCOUNT\":\"62\"},{\"SECURITYCODE\":\"BILI.O\",\"SECURITYSHORTNAME\":\"哔哩哔哩\",\"PUBLISHDATE\":\"2021-03-01\",\"SCOMPANYNAME\":\"国信证券股份有限公司\",\"SRATINGNAME\":\"增持\",\"AIMPRICE\":\"145.1-178.67\",\"TOTALCOUNT\":\"62\"},{\"SECURITYCODE\":\"BILI.O\",\"SECURITYSHORTNAME\":\"哔哩哔哩\",\"PUBLISHDATE\":\"2021-03-01\",\"SCOMPANYNAME\":\"光大证券股份有限公司\",\"SRATINGNAME\":\"买入\",\"AIMPRICE\":\"167\",\"TOTALCOUNT\":\"62\"},{\"SECURITYCODE\":\"BILI.O\",\"SECURITYSHORTNAME\":\"哔哩哔哩\",\"PUBLISHDATE\":\"2021-03-01\",\"SCOMPANYNAME\":\"安信证券股份有限公司\",\"SRATINGNAME\":\"买入\",\"AIMPRICE\":\"166\",\"TOTALCOUNT\":\"62\"},{\"SECURITYCODE\":\"BILI.O\",\"SECURITYSHORTNAME\":\"哔哩哔哩\",\"PUBLISHDATE\":\"2021-02-26\",\"SCOMPANYNAME\":\"安信证券股份有限公司\",\"SRATINGNAME\":\"买入\",\"AIMPRICE\":\"166\",\"TOTALCOUNT\":\"62\"},{\"SECURITYCODE\":\"BILI.O\",\"SECURITYSHORTNAME\":\"哔哩哔哩\",\"PUBLISHDATE\":\"2021-02-26\",\"SCOMPANYNAME\":\"国盛证券有限责任公司\",\"SRATINGNAME\":\"买入\",\"AIMPRICE\":\"151\",\"TOTALCOUNT\":\"62\"}]}}</p></body></html>\n\n"
     ]
    }
   ],
   "source": [
    "import requests\n",
    "from lxml import etree\n",
    "import re\n",
    "import json\n",
    "import ast\n",
    "code = \"BILI\"\n",
    "part_url = \"http://emweb.eastmoney.com/pc_usf10/CoreReading/PageAjax?fullCode={}.O\"\n",
    "url = part_url.format(code)\n",
    "res = requests.get(url)\n",
    "data = {}\n",
    "html = etree.HTML(res.content, etree.HTMLParser(encoding='utf-8'))\n",
    "res_data = etree.tostring(html,pretty_print=True,encoding='utf-8',method=\"html\").decode('utf-8')\n",
    "print(res_data)\n",
    "res_data = ast.literal_eval(re.sub(r'<(/)?[a-z]+(>)?(\\n)?',\"\", res_data))\n",
    "zyzb = res_data[\"data\"][\"zyzb\"][0]"
   ]
  },
  {
   "cell_type": "code",
   "execution_count": 12,
   "id": "linear-diagnosis",
   "metadata": {},
   "outputs": [
    {
     "output_type": "execute_result",
     "data": {
      "text/plain": [
       "'BILI.O'"
      ]
     },
     "metadata": {},
     "execution_count": 12
    }
   ],
   "source": [
    "\n",
    "url = \"http://emweb.eastmoney.com/pc_usf10/CoreReading/index?color=web&code=BILI\"\n",
    "res = requests.get(url)\n",
    "html = etree.HTML(res.content, etree.HTMLParser(encoding='utf-8'))\n",
    "result = html.xpath(\"/html/body/div[2]/div/ul/li[2]/a/@href\")\n",
    "result[0].split(\"=\")[-1]"
   ]
  },
  {
   "cell_type": "code",
   "execution_count": 204,
   "id": "patent-spirituality",
   "metadata": {},
   "outputs": [],
   "source": [
    "data[code] = {\"市盈率TTM\": zyzb[\"PETEM\"], \"每股收益TTM\": zyzb[\"EPSTTM\"],\"每股股息(USD)\": zyzb[\"DPS\"], \"收入总额\":zyzb[\"OPERATEREVE\"],\n",
    "             \"归母净利润\": zyzb[\"PARENTNETPROFIT\"]}"
   ]
  },
  {
   "cell_type": "code",
   "execution_count": 141,
   "id": "iraqi-wiring",
   "metadata": {},
   "outputs": [],
   "source": [
    "html = etree.HTML(res.content, etree.HTMLParser(encoding='utf-8'))\n",
    "a = etree.tostring(html,pretty_print=True,encoding='utf-8',method=\"html\").decode('utf-8')\n"
   ]
  },
  {
   "cell_type": "code",
   "execution_count": 143,
   "id": "aerial-guatemala",
   "metadata": {},
   "outputs": [
    {
     "data": {
      "text/plain": [
       "[]"
      ]
     },
     "execution_count": 143,
     "metadata": {},
     "output_type": "execute_result"
    }
   ],
   "source": [
    "field = html.xpath('//*[@id=\"div_zyzb\"]/table/tr[1]/td[4]')\n",
    "field"
   ]
  },
  {
   "cell_type": "code",
   "execution_count": 113,
   "id": "flexible-receipt",
   "metadata": {},
   "outputs": [
    {
     "name": "stdout",
     "output_type": "stream",
     "text": [
      "Collecting utils\n",
      "  Downloading utils-1.0.1-py2.py3-none-any.whl (21 kB)\n",
      "Installing collected packages: utils\n",
      "Successfully installed utils-1.0.1\n"
     ]
    }
   ],
   "source": [
    "!pip install utils"
   ]
  },
  {
   "cell_type": "code",
   "execution_count": null,
   "id": "sensitive-retention",
   "metadata": {},
   "outputs": [],
   "source": []
  }
 ],
 "metadata": {
  "kernelspec": {
   "name": "python368jvsc74a57bd0e964a1e862e5a7ecfac5e9c3d77a9b6869a27860914a69b82fda6e60eeca2fe3",
   "display_name": "Python 3.6.8 64-bit ('base': conda)"
  },
  "language_info": {
   "codemirror_mode": {
    "name": "ipython",
    "version": 3
   },
   "file_extension": ".py",
   "mimetype": "text/x-python",
   "name": "python",
   "nbconvert_exporter": "python",
   "pygments_lexer": "ipython3",
   "version": "3.6.8"
  }
 },
 "nbformat": 4,
 "nbformat_minor": 5
}