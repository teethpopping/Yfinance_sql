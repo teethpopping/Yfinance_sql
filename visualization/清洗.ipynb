{
 "cells": [
  {
   "cell_type": "code",
   "execution_count": 64,
   "id": "governing-husband",
   "metadata": {},
   "outputs": [],
   "source": [
    "import pandas as pd\n",
    "import pymysql\n",
    "from get_pricedata import *\n",
    "from creat_database import *"
   ]
  },
  {
   "cell_type": "code",
   "execution_count": 65,
   "id": "qualified-jacket",
   "metadata": {},
   "outputs": [
    {
     "name": "stdout",
     "output_type": "stream",
     "text": [
      "['IMAB', 'YJ', 'LGHL', 'UPC', 'OG', 'SLCR', 'SY', 'CLWT', 'LI', 'CNEY', 'SECO', 'PUYI', 'CAAS', 'DEH', 'HTHT', 'QH', 'JP', 'JT', 'ALAC', 'RLX', 'RUHN', 'JFU', 'CBAT', 'MDJH', 'CHNR', 'LU', 'BIMI', 'CDP', 'GRNQ', 'ASX', 'YQ', 'TOUR', 'IDEX', 'PTR', 'EJH', 'TME', 'DQ', 'VIPS', 'TIGR', 'CNTB', 'PLIN', 'CHT', 'OCG', 'ADAG', 'OST', 'JOBS', 'CHSN', 'ZNH', 'AGBAU', 'DAO', 'ZKIN', 'BNR', 'BNL', 'METX', 'HUYA', 'EH', 'API', 'CGA', 'BLCT', 'SNTG', 'XNET', 'NTP', 'GSMG', 'NTES', 'ZCMD', 'LEDS', 'LXEH', 'NOAH', 'SVA', 'UXIN', 'REDU', 'GBRGU', 'CSCA', 'QFIN', 'IQ', 'ITP', 'GURE', 'AIH', 'KNDI', 'MYT', 'TSM', 'ZGHB', 'HRDG', 'NEWA', 'AIHS', 'CIH', 'SOLE', 'CCNC', 'GRNVU', 'NIO', 'NISN', 'PME', 'DUO', 'ZGYH', 'BEKE', 'HIHO', 'HUSN', 'YY', 'QTT', 'KRKR', 'JRJC', 'COE', 'JD', 'JFIN', 'LYL', 'BRLIU', 'JWEL', 'TCOM', 'BNSO', 'BDS', 'HAPP', 'WEI', 'NFH', 'EDTK', 'BIRD', 'CLNN', 'SFUN', 'MOMO', 'FAMI', 'CCM', 'BEST', 'LIZI', 'HUDI', 'TAL', 'PV', 'CNF', 'PBTS', 'HGSH', 'CREG', 'HNP', 'DSACU', 'CNET', 'APM', 'SINO', 'PLAG', 'BHAT', 'PETZ', 'HUIZ', 'RGCB', 'OPA', 'ZH', 'FBOX', 'SOS', 'RETO', 'IH', 'OSN', 'NIU', 'QK', 'CCRC', 'DSAC', 'CXDC', 'DTSS', 'STG', 'FEDU', 'GRCL', 'JMPW', 'SJ', 'AMBO', 'DADA', 'EZGO', 'LEJU', 'BZUN', 'SOGO', 'KC', 'LLIT', 'HKIT', 'ONE', 'TIRX', 'CBPO', 'BIDU', 'BKSW', 'SDH', 'MOGU', 'LX', 'ACH', 'BGNE', 'GHG', 'HHLA', 'CD', 'ZEPP', 'BTNB', 'GTEC', 'BAOS', 'LITB', 'GOXS', 'WB', 'CJJD', 'GIGM', 'TEDU', 'EVK', 'GRNV', 'TAOP', 'FFHL', 'NCTY', 'QQCY', 'ACBAU', 'YSG', 'KUKE', 'WBAI', 'APWC', 'JG', 'OCFT', 'ILAG', 'VNET', 'ZLAB', 'DSWL', 'GLG', 'SRL', 'HX', 'SVM', 'CSIQ', 'GRCYU', 'GDS', 'CLPS', 'ZGYHU', 'BRQS', 'LAIX', 'ATIF', 'SOHU', 'EM', 'BQ', 'CANG', 'MKD', 'ACBA', 'FTFT', 'BABA', 'MARK', 'UTSI', 'UMC', 'VIOT', 'GBRG', 'DOYU', 'IMOS', 'CMCM', 'QLI', 'MFH', 'QD', 'FINV', 'HOLI', 'CMDS', 'MOXC', 'ALACU', 'SIMO', 'PT', 'CO', 'OIIM', 'MSC', 'ICLK', 'AGBA', 'RENN', 'MOHO', 'XYF', 'WAFU', 'BEDU', 'CCAC', 'TKAT', 'CEA', 'CLEU', 'HCM', 'SOL', 'CTK', 'JZXN', 'FUTU', 'CAN', 'FENG', 'MLCO', 'RAAS', 'CARH', 'AEHL', 'JKS', 'HLG', 'PDD', 'CPOP', 'YGMZ', 'BTBT', 'ANTE', 'ANPC', 'HYW', 'LOHA', 'TC', 'KXIN', 'LKCO', 'NVVE', 'TANH', 'DXF', 'JANA', 'SXTC', 'SHI', 'TUYA', 'CYD', 'CSCW', 'FANH', 'SPI', 'CPHI', 'HIMX', 'SGOC', 'YRD', 'BILI', 'WIMI', 'UTME', 'SLCRU', 'MNSO', 'SEED', 'XIN', 'BYSI', 'FHS', 'XPEV', 'GTH', 'GSX', 'KBSF', 'LFC', 'YI', 'SNP', 'EBON', 'TYHT', 'PHCF', 'MTC', 'TLC', 'BRLI', 'UCL', 'DOGZ', 'ML', 'ATHM', 'AACG', 'AGMH', 'NEW', 'WNW', 'FUDA', 'RYB', 'GRCY', 'CDTG', 'ATCO', 'WALL', 'ZTO', 'RCON', 'EDU']\n"
     ]
    },
    {
     "ename": "TypeError",
     "evalue": "object of type 'Connection' has no len()",
     "output_type": "error",
     "traceback": [
      "\u001b[0;31m---------------------------------------------------------------------------\u001b[0m",
      "\u001b[0;31mTypeError\u001b[0m                                 Traceback (most recent call last)",
      "\u001b[0;32m<ipython-input-65-15bbcc3d8108>\u001b[0m in \u001b[0;36m<module>\u001b[0;34m\u001b[0m\n\u001b[1;32m      5\u001b[0m \u001b[0;31m# run(cncp_stocks)\u001b[0m\u001b[0;34m\u001b[0m\u001b[0;34m\u001b[0m\u001b[0;34m\u001b[0m\u001b[0m\n\u001b[1;32m      6\u001b[0m \u001b[0;32mfor\u001b[0m \u001b[0mstock\u001b[0m \u001b[0;32min\u001b[0m \u001b[0mcncp_stocks\u001b[0m\u001b[0;34m:\u001b[0m\u001b[0;34m\u001b[0m\u001b[0;34m\u001b[0m\u001b[0m\n\u001b[0;32m----> 7\u001b[0;31m     \u001b[0mtable\u001b[0m \u001b[0;34m=\u001b[0m \u001b[0mread_stockdata_table\u001b[0m\u001b[0;34m(\u001b[0m\u001b[0mdb\u001b[0m\u001b[0;34m,\u001b[0m \u001b[0mcursor\u001b[0m\u001b[0;34m,\u001b[0m \u001b[0mstock\u001b[0m\u001b[0;34m)\u001b[0m\u001b[0;34m\u001b[0m\u001b[0;34m\u001b[0m\u001b[0m\n\u001b[0m\u001b[1;32m      8\u001b[0m     \u001b[0mprint\u001b[0m\u001b[0;34m(\u001b[0m\u001b[0mtable\u001b[0m\u001b[0;34m)\u001b[0m\u001b[0;34m\u001b[0m\u001b[0;34m\u001b[0m\u001b[0m\n\u001b[1;32m      9\u001b[0m \u001b[0;34m\u001b[0m\u001b[0m\n",
      "\u001b[0;32m~/Desktop/stock/visualization/creat_database.py\u001b[0m in \u001b[0;36mread_stockdata_table\u001b[0;34m(db, cursor, table_name)\u001b[0m\n\u001b[1;32m    408\u001b[0m     \u001b[0mcursor\u001b[0m\u001b[0;34m.\u001b[0m\u001b[0mexecute\u001b[0m\u001b[0;34m(\u001b[0m\u001b[0;34m\"use {}\"\u001b[0m\u001b[0;34m.\u001b[0m\u001b[0mformat\u001b[0m\u001b[0;34m(\u001b[0m\u001b[0mtable_name\u001b[0m\u001b[0;34m)\u001b[0m\u001b[0;34m)\u001b[0m\u001b[0;34m\u001b[0m\u001b[0;34m\u001b[0m\u001b[0m\n\u001b[1;32m    409\u001b[0m     \u001b[0msql\u001b[0m \u001b[0;34m=\u001b[0m \u001b[0;34m\"SELECT * FROM {}PRICE\"\u001b[0m\u001b[0;34m.\u001b[0m\u001b[0mformat\u001b[0m\u001b[0;34m(\u001b[0m\u001b[0mtable_name\u001b[0m\u001b[0;34m)\u001b[0m\u001b[0;34m\u001b[0m\u001b[0;34m\u001b[0m\u001b[0m\n\u001b[0;32m--> 410\u001b[0;31m     \u001b[0mdf\u001b[0m \u001b[0;34m=\u001b[0m \u001b[0mpd\u001b[0m\u001b[0;34m.\u001b[0m\u001b[0mread_sql\u001b[0m\u001b[0;34m(\u001b[0m\u001b[0msql\u001b[0m\u001b[0;34m,\u001b[0m\u001b[0mdb\u001b[0m\u001b[0;34m)\u001b[0m\u001b[0;34m\u001b[0m\u001b[0;34m\u001b[0m\u001b[0m\n\u001b[0m\u001b[1;32m    411\u001b[0m     \u001b[0;32mreturn\u001b[0m \u001b[0mdf\u001b[0m\u001b[0;34m\u001b[0m\u001b[0;34m\u001b[0m\u001b[0m\n\u001b[1;32m    412\u001b[0m \u001b[0;34m\u001b[0m\u001b[0m\n",
      "\u001b[0;32m~/opt/miniconda3/lib/python3.6/site-packages/pandas/io/parsers.py\u001b[0m in \u001b[0;36mparser_f\u001b[0;34m(filepath_or_buffer, sep, delimiter, header, names, index_col, usecols, squeeze, prefix, mangle_dupe_cols, dtype, engine, converters, true_values, false_values, skipinitialspace, skiprows, skipfooter, nrows, na_values, keep_default_na, na_filter, verbose, skip_blank_lines, parse_dates, infer_datetime_format, keep_date_col, date_parser, dayfirst, cache_dates, iterator, chunksize, compression, thousands, decimal, lineterminator, quotechar, quoting, doublequote, escapechar, comment, encoding, dialect, error_bad_lines, warn_bad_lines, delim_whitespace, low_memory, memory_map, float_precision)\u001b[0m\n\u001b[1;32m    683\u001b[0m         )\n\u001b[1;32m    684\u001b[0m \u001b[0;34m\u001b[0m\u001b[0m\n\u001b[0;32m--> 685\u001b[0;31m         \u001b[0;32mreturn\u001b[0m \u001b[0m_read\u001b[0m\u001b[0;34m(\u001b[0m\u001b[0mfilepath_or_buffer\u001b[0m\u001b[0;34m,\u001b[0m \u001b[0mkwds\u001b[0m\u001b[0;34m)\u001b[0m\u001b[0;34m\u001b[0m\u001b[0;34m\u001b[0m\u001b[0m\n\u001b[0m\u001b[1;32m    686\u001b[0m \u001b[0;34m\u001b[0m\u001b[0m\n\u001b[1;32m    687\u001b[0m     \u001b[0mparser_f\u001b[0m\u001b[0;34m.\u001b[0m\u001b[0m__name__\u001b[0m \u001b[0;34m=\u001b[0m \u001b[0mname\u001b[0m\u001b[0;34m\u001b[0m\u001b[0;34m\u001b[0m\u001b[0m\n",
      "\u001b[0;32m~/opt/miniconda3/lib/python3.6/site-packages/pandas/io/parsers.py\u001b[0m in \u001b[0;36m_read\u001b[0;34m(filepath_or_buffer, kwds)\u001b[0m\n\u001b[1;32m    455\u001b[0m \u001b[0;34m\u001b[0m\u001b[0m\n\u001b[1;32m    456\u001b[0m     \u001b[0;31m# Create the parser.\u001b[0m\u001b[0;34m\u001b[0m\u001b[0;34m\u001b[0m\u001b[0;34m\u001b[0m\u001b[0m\n\u001b[0;32m--> 457\u001b[0;31m     \u001b[0mparser\u001b[0m \u001b[0;34m=\u001b[0m \u001b[0mTextFileReader\u001b[0m\u001b[0;34m(\u001b[0m\u001b[0mfp_or_buf\u001b[0m\u001b[0;34m,\u001b[0m \u001b[0;34m**\u001b[0m\u001b[0mkwds\u001b[0m\u001b[0;34m)\u001b[0m\u001b[0;34m\u001b[0m\u001b[0;34m\u001b[0m\u001b[0m\n\u001b[0m\u001b[1;32m    458\u001b[0m \u001b[0;34m\u001b[0m\u001b[0m\n\u001b[1;32m    459\u001b[0m     \u001b[0;32mif\u001b[0m \u001b[0mchunksize\u001b[0m \u001b[0;32mor\u001b[0m \u001b[0miterator\u001b[0m\u001b[0;34m:\u001b[0m\u001b[0;34m\u001b[0m\u001b[0;34m\u001b[0m\u001b[0m\n",
      "\u001b[0;32m~/opt/miniconda3/lib/python3.6/site-packages/pandas/io/parsers.py\u001b[0m in \u001b[0;36m__init__\u001b[0;34m(self, f, engine, **kwds)\u001b[0m\n\u001b[1;32m    888\u001b[0m         \u001b[0;31m# might mutate self.engine\u001b[0m\u001b[0;34m\u001b[0m\u001b[0;34m\u001b[0m\u001b[0;34m\u001b[0m\u001b[0m\n\u001b[1;32m    889\u001b[0m         \u001b[0mself\u001b[0m\u001b[0;34m.\u001b[0m\u001b[0mengine\u001b[0m \u001b[0;34m=\u001b[0m \u001b[0mself\u001b[0m\u001b[0;34m.\u001b[0m\u001b[0m_check_file_or_buffer\u001b[0m\u001b[0;34m(\u001b[0m\u001b[0mf\u001b[0m\u001b[0;34m,\u001b[0m \u001b[0mengine\u001b[0m\u001b[0;34m)\u001b[0m\u001b[0;34m\u001b[0m\u001b[0;34m\u001b[0m\u001b[0m\n\u001b[0;32m--> 890\u001b[0;31m         \u001b[0mself\u001b[0m\u001b[0;34m.\u001b[0m\u001b[0moptions\u001b[0m\u001b[0;34m,\u001b[0m \u001b[0mself\u001b[0m\u001b[0;34m.\u001b[0m\u001b[0mengine\u001b[0m \u001b[0;34m=\u001b[0m \u001b[0mself\u001b[0m\u001b[0;34m.\u001b[0m\u001b[0m_clean_options\u001b[0m\u001b[0;34m(\u001b[0m\u001b[0moptions\u001b[0m\u001b[0;34m,\u001b[0m \u001b[0mengine\u001b[0m\u001b[0;34m)\u001b[0m\u001b[0;34m\u001b[0m\u001b[0;34m\u001b[0m\u001b[0m\n\u001b[0m\u001b[1;32m    891\u001b[0m \u001b[0;34m\u001b[0m\u001b[0m\n\u001b[1;32m    892\u001b[0m         \u001b[0;32mif\u001b[0m \u001b[0;34m\"has_index_names\"\u001b[0m \u001b[0;32min\u001b[0m \u001b[0mkwds\u001b[0m\u001b[0;34m:\u001b[0m\u001b[0;34m\u001b[0m\u001b[0;34m\u001b[0m\u001b[0m\n",
      "\u001b[0;32m~/opt/miniconda3/lib/python3.6/site-packages/pandas/io/parsers.py\u001b[0m in \u001b[0;36m_clean_options\u001b[0;34m(self, options, engine)\u001b[0m\n\u001b[1;32m    977\u001b[0m                 )\n\u001b[1;32m    978\u001b[0m                 \u001b[0mengine\u001b[0m \u001b[0;34m=\u001b[0m \u001b[0;34m\"python\"\u001b[0m\u001b[0;34m\u001b[0m\u001b[0;34m\u001b[0m\u001b[0m\n\u001b[0;32m--> 979\u001b[0;31m         \u001b[0;32melif\u001b[0m \u001b[0msep\u001b[0m \u001b[0;32mis\u001b[0m \u001b[0;32mnot\u001b[0m \u001b[0;32mNone\u001b[0m \u001b[0;32mand\u001b[0m \u001b[0mlen\u001b[0m\u001b[0;34m(\u001b[0m\u001b[0msep\u001b[0m\u001b[0;34m)\u001b[0m \u001b[0;34m>\u001b[0m \u001b[0;36m1\u001b[0m\u001b[0;34m:\u001b[0m\u001b[0;34m\u001b[0m\u001b[0;34m\u001b[0m\u001b[0m\n\u001b[0m\u001b[1;32m    980\u001b[0m             \u001b[0;32mif\u001b[0m \u001b[0mengine\u001b[0m \u001b[0;34m==\u001b[0m \u001b[0;34m\"c\"\u001b[0m \u001b[0;32mand\u001b[0m \u001b[0msep\u001b[0m \u001b[0;34m==\u001b[0m \u001b[0;34mr\"\\s+\"\u001b[0m\u001b[0;34m:\u001b[0m\u001b[0;34m\u001b[0m\u001b[0;34m\u001b[0m\u001b[0m\n\u001b[1;32m    981\u001b[0m                 \u001b[0mresult\u001b[0m\u001b[0;34m[\u001b[0m\u001b[0;34m\"delim_whitespace\"\u001b[0m\u001b[0;34m]\u001b[0m \u001b[0;34m=\u001b[0m \u001b[0;32mTrue\u001b[0m\u001b[0;34m\u001b[0m\u001b[0;34m\u001b[0m\u001b[0m\n",
      "\u001b[0;31mTypeError\u001b[0m: object of type 'Connection' has no len()"
     ]
    }
   ],
   "source": [
    "db = conn_sql(\"139.9.222.28\",'lulu','lulu666')\n",
    "cursor = db.cursor()\n",
    "cncp_stocks = list(set(get_cncon_stock()))\n",
    "print(cncp_stocks)\n",
    "# run(cncp_stocks)\n",
    "for stock in cncp_stocks:\n",
    "    table = read_stockdata_table(db, cursor, stock)\n",
    "    print(table)\n",
    "    \n",
    "cursor.close()\n",
    "db.close()"
   ]
  },
  {
   "cell_type": "code",
   "execution_count": null,
   "id": "processed-emphasis",
   "metadata": {},
   "outputs": [],
   "source": [
    "run()"
   ]
  },
  {
   "cell_type": "code",
   "execution_count": 58,
   "id": "suffering-experience",
   "metadata": {},
   "outputs": [],
   "source": [
    "db = conn_sql(\"139.9.222.28\",'chiwang','wc1998wc0322wc')\n",
    "cursor = db.cursor()\n",
    "sql = \"use baba\"\n",
    "cursor.execute(sql)\n",
    "cursor.close()\n",
    "db.close()"
   ]
  },
  {
   "cell_type": "code",
   "execution_count": null,
   "id": "prime-christmas",
   "metadata": {},
   "outputs": [],
   "source": []
  },
  {
   "cell_type": "code",
   "execution_count": null,
   "id": "empirical-gasoline",
   "metadata": {},
   "outputs": [],
   "source": []
  }
 ],
 "metadata": {
  "kernelspec": {
   "display_name": "Python 3",
   "language": "python",
   "name": "python3"
  },
  "language_info": {
   "codemirror_mode": {
    "name": "ipython",
    "version": 3
   },
   "file_extension": ".py",
   "mimetype": "text/x-python",
   "name": "python",
   "nbconvert_exporter": "python",
   "pygments_lexer": "ipython3",
   "version": "3.6.8"
  }
 },
 "nbformat": 4,
 "nbformat_minor": 5
}
